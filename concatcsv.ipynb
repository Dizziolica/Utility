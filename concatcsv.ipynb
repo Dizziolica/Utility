{
 "cells": [
  {
   "cell_type": "code",
   "execution_count": 1,
   "id": "9adb4383-232e-4ec9-b1dd-cb35be1756a0",
   "metadata": {},
   "outputs": [],
   "source": [
    "import pandas as pd"
   ]
  },
  {
   "cell_type": "code",
   "execution_count": null,
   "id": "de28f09f-0791-448d-9ad9-f35d11c0bd54",
   "metadata": {},
   "outputs": [],
   "source": [
    "import os"
   ]
  },
  {
   "cell_type": "code",
   "execution_count": null,
   "id": "4ee194b9-0131-4ca2-a874-99ddc75a147b",
   "metadata": {},
   "outputs": [],
   "source": [
    "files = [i for i in os.listdir() if \".csv\" in i]\n",
    "df = pd.DataFrame()\n",
    "for files in files:\n",
    "    dfTemp = pd.read_csv(files)\n",
    "    df = pd.concat([df, dfTemp])\n",
    "df.to_csv(\"grouped.csv\", sep = \";\")"
   ]
  }
 ],
 "metadata": {
  "kernelspec": {
   "display_name": "Python 3 (ipykernel)",
   "language": "python",
   "name": "python3"
  },
  "language_info": {
   "codemirror_mode": {
    "name": "ipython",
    "version": 3
   },
   "file_extension": ".py",
   "mimetype": "text/x-python",
   "name": "python",
   "nbconvert_exporter": "python",
   "pygments_lexer": "ipython3",
   "version": "3.10.9"
  }
 },
 "nbformat": 4,
 "nbformat_minor": 5
}
